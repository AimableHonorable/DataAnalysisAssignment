{
 "cells": [
  {
   "cell_type": "markdown",
   "metadata": {},
   "source": [
    "# Part 1 - Function Creation\n",
    "## Task: Create a function and Function with Return Value"
   ]
  },
  {
   "cell_type": "code",
   "execution_count": 27,
   "metadata": {},
   "outputs": [
    {
     "name": "stdout",
     "output_type": "stream",
     "text": [
      "Hello, Aimable, Welcome to python programming\n"
     ]
    }
   ],
   "source": [
    "# Creating a fuction that gets the name from the user and output is the greeting to that name.\n",
    "def greet_user ():\n",
    "    name = input(\"Hey, what's your name: \")\n",
    "    print(f\"Hello, {name}, Welcome to python programming\")\n",
    "greet_user ()\n"
   ]
  },
  {
   "cell_type": "code",
   "execution_count": 33,
   "metadata": {},
   "outputs": [
    {
     "data": {
      "text/plain": [
       "81"
      ]
     },
     "execution_count": 33,
     "metadata": {},
     "output_type": "execute_result"
    }
   ],
   "source": [
    "# Creating a function with return value\n",
    "def square_number ():\n",
    "    num = int(input(\"Enter a number: \"))\n",
    "    num_squared = num ** 2\n",
    "    return num_squared\n",
    "square_number()"
   ]
  },
  {
   "cell_type": "markdown",
   "metadata": {},
   "source": [
    "# Part 2 - If Statement\n",
    "## Task: Check Even or Odd / Grade Calculator"
   ]
  },
  {
   "cell_type": "markdown",
   "metadata": {},
   "source": []
  }
 ],
 "metadata": {
  "kernelspec": {
   "display_name": "Python 3",
   "language": "python",
   "name": "python3"
  },
  "language_info": {
   "codemirror_mode": {
    "name": "ipython",
    "version": 3
   },
   "file_extension": ".py",
   "mimetype": "text/x-python",
   "name": "python",
   "nbconvert_exporter": "python",
   "pygments_lexer": "ipython3",
   "version": "3.13.2"
  }
 },
 "nbformat": 4,
 "nbformat_minor": 2
}
