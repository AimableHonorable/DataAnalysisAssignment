{
 "cells": [
  {
   "cell_type": "markdown",
   "metadata": {},
   "source": [
    "### Part 1 - Function Creation\n",
    "Tasks: \n",
    "* Create a function\n",
    "* Function with Return Value"
   ]
  },
  {
   "cell_type": "code",
   "execution_count": 27,
   "metadata": {},
   "outputs": [
    {
     "name": "stdout",
     "output_type": "stream",
     "text": [
      "Hello, Aimable, Welcome to python programming\n"
     ]
    }
   ],
   "source": [
    "# Creating a fuction that gets the name from the user and output is the greeting to that name.\n",
    "def greet_user ():\n",
    "    name = input(\"Hey, what's your name: \")\n",
    "    print(f\"Hello, {name}, Welcome to python programming\")\n",
    "greet_user ()\n"
   ]
  },
  {
   "cell_type": "code",
   "execution_count": 33,
   "metadata": {},
   "outputs": [
    {
     "data": {
      "text/plain": [
       "81"
      ]
     },
     "execution_count": 33,
     "metadata": {},
     "output_type": "execute_result"
    }
   ],
   "source": [
    "# Creating a function with return value\n",
    "def square_number ():\n",
    "    num = int(input(\"Enter a number: \"))\n",
    "    num_squared = num ** 2\n",
    "    return num_squared\n",
    "square_number()"
   ]
  },
  {
   "cell_type": "markdown",
   "metadata": {},
   "source": [
    "### Part 2 - If Statement\n",
    "Tasks: \n",
    "* Check Even or Odd\n",
    "* Grade Calculator"
   ]
  },
  {
   "cell_type": "code",
   "execution_count": 37,
   "metadata": {},
   "outputs": [
    {
     "name": "stdout",
     "output_type": "stream",
     "text": [
      "6 is Even\n"
     ]
    }
   ],
   "source": [
    "# Program to check if the number is even or odd\n",
    "number = int(input(\"Enter the number to check: \"))\n",
    "if number % 2 == 0:\n",
    "    print (f\"{number} is Even\")\n",
    "else:\n",
    "    print (f\"{number} is Odd\")"
   ]
  },
  {
   "cell_type": "code",
   "execution_count": null,
   "metadata": {},
   "outputs": [
    {
     "name": "stdout",
     "output_type": "stream",
     "text": [
      "Your Grade is F\n"
     ]
    }
   ],
   "source": [
    "# Program to calculate grade based on given scores\n",
    "scores = int(input(\"Enter the score: \"))\n",
    "if 90 <= scores <= 100:\n",
    "    print (\"Your Grade is A\")\n",
    "elif 80 <= scores <= 89:\n",
    "    print (\"Your Grade is B\")\n",
    "elif 70 <= scores <= 79:\n",
    "    print (\"Your Grade is C\")\n",
    "elif 60 <= scores <= 69:\n",
    "    print (\"Your Grade is D\")\n",
    "elif scores < 60:\n",
    "    print (\"Your Grade is F\")\n",
    "else:\n",
    "    print(\"Invalid Input. Scores should be 100 or below!\")"
   ]
  },
  {
   "cell_type": "markdown",
   "metadata": {},
   "source": [
    "### Part 3: Numpy Basics\n",
    "Tasks:\n",
    "* Create a Numpy array\n",
    "* Numpy operations"
   ]
  },
  {
   "cell_type": "code",
   "execution_count": null,
   "metadata": {},
   "outputs": [],
   "source": [
    "%pip install numpy"
   ]
  },
  {
   "cell_type": "code",
   "execution_count": 47,
   "metadata": {},
   "outputs": [
    {
     "name": "stdout",
     "output_type": "stream",
     "text": [
      "[ 1  2  3  4  5  6  7  8  9 10]\n"
     ]
    }
   ],
   "source": [
    "# Program to create array of numbers\n",
    "import numpy as np\n",
    "\n",
    "Array = np.arange(1,11)\n",
    "print(Array)"
   ]
  },
  {
   "cell_type": "code",
   "execution_count": 49,
   "metadata": {},
   "outputs": [
    {
     "name": "stdout",
     "output_type": "stream",
     "text": [
      "Given Array: [ 1  2  3  4  5  6  7  8  9 10]\n",
      "Mean: 5.5\n",
      "Minimum: 1\n",
      "Maximum: 10\n",
      "Sum: 55\n"
     ]
    }
   ],
   "source": [
    "# Program to perform some operations. We will use the above array\n",
    "# Finding the mean of the array\n",
    "Mean = np.mean(Array)\n",
    "\n",
    "# Finding the Maximum and Minimum values\n",
    "Maximum = np.max(Array)\n",
    "Minimum = np.min(Array)\n",
    "\n",
    "# Finding the sum of elements\n",
    "Array_sum = np.sum(Array)\n",
    "\n",
    "# Output\n",
    "print(f\"Given Array: {Array}\")\n",
    "print(f\"Mean: {Mean}\")\n",
    "print(f\"Minimum: {Minimum}\")\n",
    "print(f\"Maximum: {Maximum}\")\n",
    "print(f\"Sum: {Array_sum}\")\n"
   ]
  },
  {
   "cell_type": "markdown",
   "metadata": {},
   "source": [
    "### Part 4: Basic mathematical operations\n",
    "Tasks:\n",
    "* Basic Arithmetic\n",
    "* Find Factorial"
   ]
  },
  {
   "cell_type": "code",
   "execution_count": 51,
   "metadata": {},
   "outputs": [
    {
     "name": "stdout",
     "output_type": "stream",
     "text": [
      "Sum = 90\n",
      "Difference = 70\n",
      "Product = 800\n",
      "Quatient = 8.0\n"
     ]
    }
   ],
   "source": [
    "# Python program that takes two numbers as input and performs addition, subtraction, multiplication, and division\n",
    "num_1 = int(input(\"Enter the first number: \"))\n",
    "num_2 = int(input(\"Enter the second number: \"))\n",
    "\n",
    "Sum = num_1 + num_2\n",
    "Difference = num_1 - num_2\n",
    "Product = num_1 * num_2\n",
    "Quatient = num_1 / num_2\n",
    "\n",
    "print(f\"Sum = {Sum}\")\n",
    "print(f\"Difference = {Difference}\")\n",
    "print(f\"Product = {Product}\")\n",
    "print(f\"Quatient = {Quatient}\")"
   ]
  },
  {
   "cell_type": "code",
   "execution_count": null,
   "metadata": {},
   "outputs": [
    {
     "name": "stdout",
     "output_type": "stream",
     "text": [
      "Factorial of 5 is 120\n"
     ]
    }
   ],
   "source": [
    "# Function factorial(n) that takes an integer n and returns its factorial.\n",
    "def factorial(n):\n",
    "    if n == 0 or n == 1:\n",
    "        return 1\n",
    "    else:\n",
    "        return n * factorial(n - 1)\n",
    "\n",
    "# Getting the user input and displaying the results\n",
    "n = int(input(\"Insert a number: \"))\n",
    "Result = factorial(n)\n",
    "print(f\"Factorial of {n} is {Result}\")"
   ]
  },
  {
   "cell_type": "code",
   "execution_count": null,
   "metadata": {},
   "outputs": [],
   "source": []
  }
 ],
 "metadata": {
  "kernelspec": {
   "display_name": "Python 3",
   "language": "python",
   "name": "python3"
  },
  "language_info": {
   "codemirror_mode": {
    "name": "ipython",
    "version": 3
   },
   "file_extension": ".py",
   "mimetype": "text/x-python",
   "name": "python",
   "nbconvert_exporter": "python",
   "pygments_lexer": "ipython3",
   "version": "3.13.2"
  }
 },
 "nbformat": 4,
 "nbformat_minor": 2
}
